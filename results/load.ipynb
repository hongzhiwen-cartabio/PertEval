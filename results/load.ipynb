{
 "cells": [
  {
   "cell_type": "code",
   "execution_count": 1,
   "id": "6d50923e-70d0-46ca-bb3c-a09ddb7e755a",
   "metadata": {},
   "outputs": [],
   "source": [
    "import anndata as ad\n",
    "import pandas as pd"
   ]
  },
  {
   "cell_type": "code",
   "execution_count": 4,
   "id": "88d05b8d-70bf-44be-a4af-9ea070191508",
   "metadata": {},
   "outputs": [],
   "source": [
    "data_name = 'chi_data'\n",
    "base = ad.read_h5ad(f'../data/{data_name}.h5ad')\n",
    "base.obs['condition'] = base.obs['condition'].str.upper()\n",
    "import json\n",
    "with open(f'../data/{data_name}_fold_indices.json') as f:\n",
    "    folds = json.load(f)\n",
    "names = pd.read_csv(f'../data/{data_name}_fold_names.csv').values[:, 0]"
   ]
  },
  {
   "cell_type": "code",
   "execution_count": 64,
   "id": "31060456-182f-40bc-bfae-5574a1d6c6c3",
   "metadata": {},
   "outputs": [],
   "source": [
    "import pickle\n",
    "for i in ['scgpt']:\n",
    "    adata = base.copy()\n",
    "    filt = ad.read_h5ad(f'../data/{data_name}_{i}.h5ad')\n",
    "    adata = adata[filt.obs_names]\n",
    "    res = []\n",
    "    for j in range(5):\n",
    "        temp = adata[adata.obs['condition'].isin(names[folds[j]['test_indices']])].copy()\n",
    "        with open(f'{data_name}_{i}_split{j}.pkl', 'rb') as f:\n",
    "            preds, targets = pickle.load(f)\n",
    "        temp.X = preds.numpy()\n",
    "        res.append(temp)\n",
    "    adata = ad.read()\n",
    "    break"
   ]
  },
  {
   "cell_type": "code",
   "execution_count": 65,
   "id": "2d1ddf0b-14e8-413e-bfca-f03c2d6d716a",
   "metadata": {},
   "outputs": [],
   "source": [
    "temp = temp.X.toarray()"
   ]
  },
  {
   "cell_type": "code",
   "execution_count": 67,
   "id": "76eb8db8-87b3-4d6e-9edb-de56a3d4d608",
   "metadata": {},
   "outputs": [
    {
     "name": "stdout",
     "output_type": "stream",
     "text": [
      "1\n"
     ]
    }
   ],
   "source": [
    "for i,j in enumerate(temp):\n",
    "   if (j == targets[1]).all():\n",
    "       print(i)"
   ]
  },
  {
   "cell_type": "code",
   "execution_count": 52,
   "id": "9c63cd63-a71e-4799-b947-4f03444ca65b",
   "metadata": {},
   "outputs": [
    {
     "data": {
      "text/plain": [
       "tensor([[0.5133, 0.0000, 0.0000,  ..., 0.0000, 0.0000, 0.0000],\n",
       "        [0.0000, 1.4306, 0.0000,  ..., 0.0000, 0.0000, 0.0000],\n",
       "        [0.4445, 0.7512, 0.0000,  ..., 0.0000, 0.0000, 0.0000],\n",
       "        ...,\n",
       "        [0.0000, 0.0000, 0.7029,  ..., 0.0000, 0.0000, 0.0000],\n",
       "        [0.0000, 0.0000, 0.0000,  ..., 0.0000, 0.0000, 0.0000],\n",
       "        [0.8727, 0.8727, 0.5287,  ..., 0.0000, 0.0000, 0.0000]])"
      ]
     },
     "execution_count": 52,
     "metadata": {},
     "output_type": "execute_result"
    }
   ],
   "source": [
    "targets"
   ]
  },
  {
   "cell_type": "code",
   "execution_count": 53,
   "id": "12c5d070-bebe-4269-9dc5-19823acf2900",
   "metadata": {},
   "outputs": [
    {
     "data": {
      "text/plain": [
       "tensor([[ 0.0903, -0.0065,  0.0564,  ...,  0.0562, -0.0220, -0.0313],\n",
       "        [ 0.0904, -0.0076,  0.0594,  ...,  0.0578, -0.0259, -0.0299],\n",
       "        [ 0.0885, -0.0035,  0.0561,  ...,  0.0579, -0.0264, -0.0341],\n",
       "        ...,\n",
       "        [ 0.0910, -0.0071,  0.0586,  ...,  0.0605, -0.0263, -0.0330],\n",
       "        [ 0.0905, -0.0068,  0.0586,  ...,  0.0601, -0.0269, -0.0337],\n",
       "        [ 0.0907, -0.0069,  0.0574,  ...,  0.0591, -0.0284, -0.0322]])"
      ]
     },
     "execution_count": 53,
     "metadata": {},
     "output_type": "execute_result"
    }
   ],
   "source": [
    "preds"
   ]
  },
  {
   "cell_type": "code",
   "execution_count": 73,
   "id": "d5d51b09-a661-4878-b5b3-6471af2b7b06",
   "metadata": {},
   "outputs": [
    {
     "data": {
      "text/plain": [
       "((5357, 15989), (5357, 15989))"
      ]
     },
     "execution_count": 73,
     "metadata": {},
     "output_type": "execute_result"
    }
   ],
   "source": [
    "temp.shape, preds.numpy().shape"
   ]
  },
  {
   "cell_type": "code",
   "execution_count": null,
   "id": "47bd30d2-7786-4f27-8495-0666e9292b6b",
   "metadata": {},
   "outputs": [],
   "source": []
  }
 ],
 "metadata": {
  "kernelspec": {
   "display_name": "scgpt",
   "language": "python",
   "name": "scgpt"
  },
  "language_info": {
   "codemirror_mode": {
    "name": "ipython",
    "version": 3
   },
   "file_extension": ".py",
   "mimetype": "text/x-python",
   "name": "python",
   "nbconvert_exporter": "python",
   "pygments_lexer": "ipython3",
   "version": "3.10.16"
  }
 },
 "nbformat": 4,
 "nbformat_minor": 5
}
